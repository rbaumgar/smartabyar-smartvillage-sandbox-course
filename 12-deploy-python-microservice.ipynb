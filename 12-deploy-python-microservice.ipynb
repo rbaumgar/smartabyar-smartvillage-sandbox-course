{
 "cells": [
  {
   "cell_type": "markdown",
   "id": "0518244f-cf18-45c3-8ee1-3cbbecfba478",
   "metadata": {},
   "source": [
    "## About the Smart Village python microservice\n",
    "We are writing a Microservice that we can run on openshift. The goal is to read Map data from the official Smart Village api and push map data to your own Smart Village instance that you have deployed using the previous notebooks. We will do this by writing a Python program and a Dockerfile that will containerize the service.\n"
   ]
  },
  {
   "cell_type": "markdown",
   "id": "b033bb2d",
   "metadata": {},
   "source": [
    "#### Setting values we will use for this program\n",
    "For testing this application, we want to talk to the environment you have just deployed on the previous notebook. \n",
    "The above commands will first set environment variables for `MAP_SERVER_URL`, `CLIENT_ID` and `CLIENT_SECRET` and use them to create a openshift secret we can later download to update our workbench in the next section."
   ]
  },
  {
   "cell_type": "code",
   "execution_count": null,
   "id": "08596221",
   "metadata": {},
   "outputs": [],
   "source": [
    "%%bash\n",
    "export MAP_SERVER_URL=\"https://$(oc get route/smartvillage-web -o jsonpath={.spec.host})\"\n",
    "export CLIENT_ID=\"$(oc get secret/smartvillage -o jsonpath={.data.CLIENT_ID} | base64 -d)\"\n",
    "export CLIENT_SECRET=\"$(oc get secret/smartvillage -o jsonpath={.data.CLIENT_SECRET} | base64 -d)\"\n",
    "oc create secret generic python-microservice --from-literal=MAP_SERVER_URL=$MAP_SERVER_URL --from-literal=CLIENT_ID=$CLIENT_ID --from-literal=CLIENT_SECRET=$CLIENT_SECRET\n",
    "echo DONE"
   ]
  },
  {
   "cell_type": "markdown",
   "id": "62fcc579",
   "metadata": {},
   "source": [
    "#### Now we want to make sure we update our `OpenShift AI workbench` with this newly created python-microservice secret.\n",
    "\n",
    "1. Let's download the `python-microservice secret` we created at the beginning that has the Environment Variables we need to pass to our workbench.\n",
    "#### Deploying on Openshift\n",
    "\n",
    "2. From your [developer sandbox](https://console.redhat.com/openshift/sandbox) open the openshift view.\n",
    "\n",
    "<img src=\"pictures/microservice/0007.png\" />\n",
    "\n",
    "3. Select the <img src=\"pictures/microservice/0023.png\" /> view on the top left corner.\n",
    "\n",
    "4. Under `Workloads` select `Secrets`.\n",
    "\n",
    "<img src=\"pictures/microservice/0024.png\" />\n",
    "\n",
    "5. On the secrets page search for `python-microservice` and click on the secret.\n",
    "\n",
    "<img src=\"pictures/microservice/0025.png\" />\n",
    "\n",
    "6. On the secret details page, switch to the <img src=\"pictures/microservice/0026.png\" /> view.  \n",
    "\n",
    "7. On the `YAML` view, select <img src=\"pictures/microservice/0027.png\" /> on the bottom right of the page. This will download the secret as a YAML file on your system which we will use in the next steps.\n",
    "\n",
    "8. Lets go back into your workbench from the introduction of the course.\n",
    "\n",
    "9. In a new tab open your OpenShift Sandbox, click on the apps button\n",
    "<img src=\"pictures/100002010000003000000024AAAC041571052865.png\" />\n",
    "at the top,\n",
    "\n",
    "then click\n",
    "<img src=\"pictures/100002010000012600000028AA3F546B7EAF857C.png\" />\n",
    "to log into OpenShift AI.\n",
    "\n",
    "Click the button to\n",
    "<img src=\"pictures/10000201000000A000000020B028AB197DEBE3A3.png\" />.\n",
    "\n",
    "Log into OpenShift AI by clicking on the\n",
    "<img src=\"pictures/100002010000006C0000001DABF5B58FF6B1D253.png\" />\n",
    "button.\n",
    "\n",
    "Once you are in OpenShift AI, click on the menu button\n",
    "<img src=\"pictures/100002010000002E000000216426608B65255A13.png\" />,\n",
    "then click\n",
    "<img src=\"pictures/10000201000000B200000027F58611BB363F3154.png\" />.\n",
    "\n",
    "Then click on the name of your data science project\n",
    "<img src=\"pictures/100002010000008F00000034E5BB257B3DE6397F.png\" />,\n",
    "for my Red Hat user it’s computate-dev.\n",
    "\n",
    "10. You should see your `Workbenches` and the workbench you created listed.\n",
    "\n",
    "<img src=\"pictures/microservice/0001.png\" />\n",
    "\n",
    "11. On the right hand side of your workbench there is 3 dots, click on them and select `Edit Workbench`\n",
    "##CHANGE workbench picture for python name\n",
    "<img src=\"pictures/microservice/0002.png\" />\n",
    "\n",
    "12. Select `Environment Variables` then `Add more variables`\n",
    "\n",
    "<img src=\"pictures/microservice/0003.png\" />\n",
    "\n",
    "13. Select `Secret` from the Environment variable type dropdown menu. Then select `Upload`.\n",
    "\n",
    "14. Click on Upload and select the python-microservice.yaml we downloaded on step 1.\n",
    "\n",
    "<img src=\"pictures/microservice/0004.png\" />\n",
    "\n",
    "15. Now click on the <img src=\"pictures/microservice/0005.png\" /> button."
   ]
  },
  {
   "cell_type": "markdown",
   "id": "93dbec51",
   "metadata": {},
   "source": [
    "To make sure that we have properly updated our workbench we can issue the following commands. You should see the 3 environment variables printed before DONE."
   ]
  },
  {
   "cell_type": "code",
   "execution_count": null,
   "id": "760a43ad",
   "metadata": {},
   "outputs": [],
   "source": [
    "%%bash\n",
    "echo \"My MAP_SERVER_URL is: $MAP_SERVER_URL\"\n",
    "echo \"My CLIENT_ID is: $CLIENT_ID\"\n",
    "echo \"My CLIENT_SECRET is: $CLIENT_SECRET\"\n",
    "echo DONE"
   ]
  },
  {
   "cell_type": "markdown",
   "id": "95ea8fe8",
   "metadata": {},
   "source": [
    "We also want the cient_id and client_secret. We want read those from the secret object and set it to a environment variable we are going to use shortly."
   ]
  },
  {
   "cell_type": "markdown",
   "id": "d93baf20-7419-4c47-be53-2e33907fe263",
   "metadata": {},
   "source": [
    "## Python Microservice.\n",
    "This program will have a http endpoint that will trigger the updates to the map data. To expose an http endpoint we will be using [Flask](https://flask.palletsprojects.com) as a dependency. In order to handle http requests we will use [requests](https://pypi.org/project/requests/). When dealing with objects that can change value at runtime a common way to change the behavior of the application is using environment variables, for this we will use the [os](https://docs.python.org/3/library/os.html) module that is part of the Python library. Finally we want to read data from the Smart Village api based on our current timezone, for that we we will use [pytz](https://pypi.org/project/pytz/) to handle the timezone and use the types datetime & timezone from the [datetime](https://docs.python.org/3/library/datetime.html) module that is also part of the Python library.\n",
    "\n",
    "Let's install modules needed that are not part of the python standard library."
   ]
  },
  {
   "cell_type": "code",
   "execution_count": null,
   "id": "4669af2c",
   "metadata": {},
   "outputs": [],
   "source": [
    "%%bash\n",
    "pip install requests flask pytz\n",
    "echo DONE"
   ]
  },
  {
   "cell_type": "markdown",
   "id": "9d70ee25",
   "metadata": {},
   "source": [
    "#### Setting imports and app\n",
    "Above we are going to import all the needed modules and setup our Flask app."
   ]
  },
  {
   "cell_type": "code",
   "execution_count": null,
   "id": "809e439b",
   "metadata": {},
   "outputs": [],
   "source": [
    "import os\n",
    "import pytz\n",
    "import requests\n",
    "from flask import Flask\n",
    "from datetime import datetime, timezone\n",
    "# Define the Flask app.\n",
    "app = Flask(__name__)"
   ]
  },
  {
   "cell_type": "markdown",
   "id": "c4c0f805",
   "metadata": {},
   "source": [
    "#### Using environment variables.\n",
    "The above section of code will read all 3 environment variables and setup the static value of the Smart Village api. THe last `if` statement is checking if the the credentials were provided. You can also add a check for the MAP_SERVER_URL."
   ]
  },
  {
   "cell_type": "code",
   "execution_count": null,
   "id": "39794a35",
   "metadata": {},
   "outputs": [],
   "source": [
    "client_id = os.getenv('CLIENT_ID')\n",
    "client_secret = os.getenv('CLIENT_SECRET')\n",
    "map_server = os.getenv('MAP_SERVER_URL')\n",
    "token_auth_url = \"https://sso.smartabyarsmartvillage.org/auth/realms/SMARTVILLAGE/protocol/openid-connect/token\"\n",
    "\n",
    "if client_id is None or client_secret is None:\n",
    "    print(\"No CLIENT_ID or CLIENT_SECRET environment variable or defined...Exiting\")\n",
    "    exit(1)"
   ]
  },
  {
   "cell_type": "markdown",
   "id": "9f196aae",
   "metadata": {},
   "source": [
    "#### Getting the Access token\n",
    "To communicate with the API we need to have permissions, in this case we are using an access_token as authentication mechanism. To get the access token that we can re-use to make api calls, we need to make an initial request to the authentication url. This is when we will use the client_id, client_secret to do a request to the server. Above we are using the requests module to do a post. The data or payload we send to the server is inside `token_auth_payload`."
   ]
  },
  {
   "cell_type": "code",
   "execution_count": null,
   "id": "a5c7e624",
   "metadata": {},
   "outputs": [],
   "source": [
    "token_auth_payload =  {\n",
    "    'grant_type': 'client_credentials',\n",
    "    'client_id': client_id,\n",
    "    'client_secret': client_secret,\n",
    "}\n",
    "response = requests.post(token_auth_url, token_auth_payload)"
   ]
  },
  {
   "cell_type": "markdown",
   "id": "180096ad",
   "metadata": {},
   "source": [
    "#### Error handling\n",
    "When talking to the authentication server we will get a valid token if the status code is 200, if the status code is not 200 we will not have a way to talk to the apis to get map data. To be able to debug what is going wrong we should print the status code and the error. The code above saves the access_token if successful and prints the status_code. If you encounter issues you can print additional information from the response object. What is supported can be seen on the requests [documentation](https://requests.readthedocs.io/en/latest/user/quickstart/#response-content)."
   ]
  },
  {
   "cell_type": "code",
   "execution_count": null,
   "id": "9b79c5a3",
   "metadata": {},
   "outputs": [],
   "source": [
    "access_token = \"\"\n",
    "if response.status_code == 200:\n",
    "    access_token = response.json().get('access_token')\n",
    "    print(f\"Token: {access_token}\")\n",
    "else:\n",
    "    print(f\"Status: {response.status_code}\")"
   ]
  },
  {
   "cell_type": "markdown",
   "id": "ffa98aa9",
   "metadata": {},
   "source": [
    "#### GET api values\n",
    "Let's setup a couple of variables for communicating with the APIs. The `api_uri` is the URL of the official Smart Village deployment that we will use to get the map data from. The `map_data_api` is the api to do a GET request from that official Smart Village deployment."
   ]
  },
  {
   "cell_type": "code",
   "execution_count": null,
   "id": "e7196243-1122-400a-b88f-909ec0a52edc",
   "metadata": {},
   "outputs": [],
   "source": [
    "api_uri = \"https://www.smartabyarsmartvillage.org\"\n",
    "map_data_api = \"/api/map-result\""
   ]
  },
  {
   "cell_type": "markdown",
   "id": "2328644e",
   "metadata": {},
   "source": [
    "#### GET function `get_map_data()`\n",
    "This section of the code should be in it's own function at the end. We should name the function `get_map_data` and will have `no arguments` and at the end of the function we will return `map_data`. For now we are writing it directly in the script.\n",
    "\n",
    "* First, we are getting the current time in our timezone."
   ]
  },
  {
   "cell_type": "code",
   "execution_count": null,
   "id": "a3d68b82-e612-4147-a4bd-f4ca0c7cfd05",
   "metadata": {},
   "outputs": [],
   "source": [
    "# Get current time in America/New_York timezone\n",
    "utc_time = datetime.utcnow()\n",
    "my_timezone_name = 'America/New_York'\n",
    "my_timezone = pytz.timezone(my_timezone_name)\n",
    "current_my_time = utc_time.replace(tzinfo=timezone.utc).astimezone(my_timezone)\n",
    "formatted_time = current_my_time.strftime(\"%Y-%m-%dT%H:%M:%S.000\") + (\"[%s]\" % my_timezone_name)\n",
    "print(formatted_time)"
   ]
  },
  {
   "cell_type": "markdown",
   "id": "9442ca33",
   "metadata": {},
   "source": [
    "* Second, we construct the parameters we need to pass to the map results api."
   ]
  },
  {
   "cell_type": "code",
   "execution_count": null,
   "id": "86dc4f9b",
   "metadata": {},
   "outputs": [],
   "source": [
    "headers = {\n",
    " 'Authorization': f'Bearer {access_token}',\n",
    "}\n",
    "params = {\"rows\": \"100\",\"fq\": f\"dateTime:{formatted_time}\"}\n"
   ]
  },
  {
   "cell_type": "markdown",
   "id": "ca3d1675",
   "metadata": {},
   "source": [
    "* Third, we make the request passing our access_token and parameters."
   ]
  },
  {
   "cell_type": "code",
   "execution_count": null,
   "id": "27ae65ce",
   "metadata": {},
   "outputs": [],
   "source": [
    "map_result = requests.get(url=api_uri+map_data_api, params=params, headers=headers)"
   ]
  },
  {
   "cell_type": "markdown",
   "id": "5f0fa4f8",
   "metadata": {},
   "source": [
    "* Fourth, we get the data points if successful. However in the function we would want to return map_data."
   ]
  },
  {
   "cell_type": "code",
   "execution_count": null,
   "id": "59ff29d0",
   "metadata": {},
   "outputs": [],
   "source": [
    "if map_result.status_code == 200:\n",
    "    map_data = map_result.json()\n",
    "    print(f\"GET Request Successful. Data: {map_data}\")\n",
    "else:\n",
    "    print(f\"GET Status code: {map_result.status_code}\")\n",
    "print(f\"My map data is: {map_data}\")\n",
    "#return map_data"
   ]
  },
  {
   "cell_type": "markdown",
   "id": "b247f6b7",
   "metadata": {},
   "source": [
    "#### Declare the POST api endpoint.\n",
    "`smart_traffic_light_api` is the api endpoint we need tot talk to on your Smart Village deployment. We will concatenate your Smart Village URL (MAP_SERVER_URL) with this api endpoint to do a PUT request and update the map values from the data we got from the official server in the previous section."
   ]
  },
  {
   "cell_type": "code",
   "execution_count": null,
   "id": "24a5db08",
   "metadata": {},
   "outputs": [],
   "source": [
    "smart_traffic_light_api= \"/api/smart-traffic-light-import\""
   ]
  },
  {
   "cell_type": "markdown",
   "id": "2ee7740a",
   "metadata": {},
   "source": [
    "#### PUT function  `update_data(map_data)`\n",
    "This section should also be in function but we are writing it initially as part of the script. This function we should call `update_data` and take the agument `(map_data)`. This function will not return anything at the end just print out debug statements.\n",
    "\n",
    "* First, we setup the headers for the PUT request"
   ]
  },
  {
   "cell_type": "code",
   "execution_count": null,
   "id": "8dfa96a7",
   "metadata": {},
   "outputs": [],
   "source": [
    "headers = {\n",
    "'Authorization': f'Bearer {access_token}',\n",
    "'Content-Type': 'application/json',\n",
    "}"
   ]
  },
  {
   "cell_type": "markdown",
   "id": "d6d1ec07",
   "metadata": {},
   "source": [
    "* Second, we use a for loop to go thru the data we got from the Official Smart Village server and save only the coordinates."
   ]
  },
  {
   "cell_type": "code",
   "execution_count": null,
   "id": "8beff770",
   "metadata": {},
   "outputs": [],
   "source": [
    "all_coordinates = []\n",
    "for item in map_data['list']:\n",
    "    if 'location' in item and 'coordinates' in item['location']:\n",
    "        coordinates = item['location']['coordinates']\n",
    "        all_coordinates.append(coordinates)"
   ]
  },
  {
   "cell_type": "markdown",
   "id": "b3465437",
   "metadata": {},
   "source": [
    "* Third, we prepare the JSON payload for the PUT we call it `light_data`"
   ]
  },
  {
   "cell_type": "code",
   "execution_count": null,
   "id": "fcb49f37",
   "metadata": {},
   "outputs": [],
   "source": [
    "light_data = {\n",
    "    \"pk\": \"veberod-intersection-1\",\n",
    "    \"saves\": [\"entityId\", \"smartTrafficLightName\", \"location\", \"areaServed\"],\n",
    "    \"entityId\": \"urn:ngsi-ld:SmartTrafficLight:SmartTrafficLight-veberod-intersection-1\",\n",
    "    \"smartTrafficLightName\": \"Veberöd intersection 1\",\n",
    "    \"areaServed\": [\n",
    "    ]\n",
    "}"
   ]
  },
  {
   "cell_type": "markdown",
   "id": "28b91743",
   "metadata": {},
   "source": [
    "* Fourth, we modify light_data to include all the coordinates."
   ]
  },
  {
   "cell_type": "code",
   "execution_count": null,
   "id": "6668f639",
   "metadata": {},
   "outputs": [],
   "source": [
    "light_data['areaServed'] = [{\"type\": \"Point\", \"coordinates\": coordinates} for coordinates in all_coordinates[1:]]"
   ]
  },
  {
   "cell_type": "markdown",
   "id": "4628e7b5",
   "metadata": {},
   "source": [
    "* Finally, we make the request updating your Smart Village deployment with the coordinate data.\n",
    "We can print as much as debug information as we need. In this care we have 3 print statements. In the function these can be combined or modified as you see fit."
   ]
  },
  {
   "cell_type": "code",
   "execution_count": null,
   "id": "00d8866e",
   "metadata": {},
   "outputs": [],
   "source": [
    "if map_server is not None:\n",
    "    put_response = requests.put(url=map_server+smart_traffic_light_api, json={\"list\":[light_data]}, headers=headers)\n",
    "    if put_response.status_code == 200:\n",
    "        put_data = put_response.json()\n",
    "        print(f\"Successful PUT, Updated: {put_data}\")\n",
    "    else:\n",
    "        print(f\"PUT Failed: {put_response.status_code}, {put_response.text}\")\n",
    "else:\n",
    "    print(\"No MAP_SERVER_URL environment variable defined, printing payload to terminal:\")\n",
    "    print(f\"My light_data is: {light_data}\")"
   ]
  },
  {
   "cell_type": "markdown",
   "id": "fd76a33c",
   "metadata": {},
   "source": [
    "#### Setting up the service code\n",
    "The `@app.route('/health')` annotation on top of a function is what tells flask what function to call when we access that http endpoint.\n",
    "The `check_data` function will call the `get_map_data` function and then update your Smart Village deployment with that data by calling `update_data`. \n",
    "These are the functions you must create from the above sections."
   ]
  },
  {
   "cell_type": "code",
   "execution_count": null,
   "id": "520a0504",
   "metadata": {},
   "outputs": [],
   "source": [
    "@app.route('/health')\n",
    "def check_data():\n",
    "    map_data = get_map_data()\n",
    "    update_data(map_data)\n",
    "    return \"App is running\""
   ]
  },
  {
   "cell_type": "markdown",
   "id": "c0c7a7db",
   "metadata": {},
   "source": [
    "To open the port used for talking to the service we need to define in code or at runtime. \n",
    "For this instance we are going to programmatically setup the host/port that way we can easily import this application to OpenShift using source to image."
   ]
  },
  {
   "cell_type": "code",
   "execution_count": null,
   "id": "919c6235",
   "metadata": {},
   "outputs": [],
   "source": [
    "if __name__ == '__main__':\n",
    "     app.run(host='0.0.0.0', port=8080, debug=False)"
   ]
  },
  {
   "cell_type": "markdown",
   "id": "1f96ef6a",
   "metadata": {},
   "source": [
    "## Building a container with my application.\n",
    "In this section we will create a container image that holds our application and lets us run it locally.\n",
    "\n",
    "First let's create a folder to hold our code and the files we need for our application.\n",
    "These files are:\n",
    "- `app.py` is the python script we built in the previous sections.\n",
    "- `Dockerfile` this is commonly called a Dockerfile or Containerfile, this holds the instructions on how to build the container.\n",
    "- `.github/workflows/build.yml` a automation script (github workflow) that builds and push the container to a registry.\n",
    "- `.gitignore` This file tells git not to track certain files, for us it is ignoring the course notebook checkpoints, which are not relevant to the application."
   ]
  },
  {
   "cell_type": "code",
   "execution_count": null,
   "id": "757c3ca9",
   "metadata": {},
   "outputs": [],
   "source": [
    "%%bash\n",
    "mkdir  ~/smartvillage-service\n",
    "touch ~/smartvillage-service/Dockerfile\n",
    "touch ~/smartvillage-service/app.py\n",
    "mkdir -p ~/smartvillage-service/.github/workflows/\n",
    "touch ~/smartvillage-service/.github/workflows/build.yml\n",
    "echo \"**/.ipynb_checkpoints\" >> ~/smartvillage-service/.gitignore\n",
    "echo DONE"
   ]
  },
  {
   "cell_type": "markdown",
   "id": "5bdef90d",
   "metadata": {},
   "source": [
    "#### Creating a Containerfile/Dockerfile\n",
    "\n",
    "The First line in this Dockerfile we create on `touch ~/smartvillage-service/Dockerfile` should be our base image.\n",
    "The in our case the base image will have most of the dependencies we need to run our application.\n",
    "By using `registry.access.redhat.com/ubi9/python-311` we get python and pip pre-installed on a stable and reliable Linux container based on RHEL content.\n",
    "\n",
    "```\n",
    "FROM registry.access.redhat.com/ubi9/python-311\n",
    "```\n",
    "\n",
    "On next line we are copying the python application into the container.\n",
    "```\n",
    "COPY app.py .\n",
    "```\n",
    "\n",
    "Now since this environment does not have all the dependencies we need, we must run pip like we did at the beginning of our notebook, but this time in the container build:\n",
    "```\n",
    "RUN pip install --no-cache-dir Flask requests pytz\n",
    "```\n",
    "\n",
    "Our application uses 3 environment variables, we need to define them so we can set them at runtime in the container file, the next lines do that for us.\n",
    "```\n",
    "ENV CLIENT_ID=\n",
    "ENV CLIENT_SECRET=\n",
    "ENV MAP_SERVER_URL=\n",
    "```\n",
    "\n",
    "We want our application to accept connections on port `8080` to accomplish that we need to EXPOSE that port:\n",
    "```\n",
    "EXPOSE 8080\n",
    "```\n",
    "\n",
    "Finally the CMD instruction, tells the container what command to run when it's started. In our case we want it to run python with our script as the argument.\n",
    "```\n",
    "CMD [\"python\", \"app.py\"]\n",
    "```"
   ]
  },
  {
   "cell_type": "markdown",
   "id": "72b2a113",
   "metadata": {},
   "source": [
    "#### Building our container using automation.\n",
    "The file we created in the step above `.github/workflows/build.yml` will control how we are building the container image with podman in github.\n",
    "\n",
    "The first part of the file defines the name of the workflow and how it is triggered. In this case it will be triggered every time you push to the main branch.\n",
    "\n",
    "```\n",
    "name: Build\n",
    "on:\n",
    "  push:\n",
    "    branches: [\"main\"]\n",
    "```\n",
    "\n",
    "Like our container the workflow uses environment variables to configure the build, we are defining the registry, which will be the github one for this example, the name of the image, the location and your user name and password. The great thing is that all this is automatically read from your github account, the only thing that that you can optionally change is the IMAGE_NAME.\n",
    "```\n",
    "env:\n",
    "  REGISTRY: ghcr.io\n",
    "  IMAGE_NAME: \"python-microservice\"\n",
    "  IMAGE_REGISTRY: ghcr.io/${{ github.repository_owner }}\n",
    "  REGISTRY_USER: ${{ github.actor }}\n",
    "  REGISTRY_PASSWORD: ${{ github.token }}\n",
    "```\n",
    "\n",
    "Finally we got a job with 3 steps. Notice that each step must have the same indentation as the first one. \n",
    "\n",
    "First this defines a `podman-build` job that uses the default ubuntu-latest container from github to run podman and build your Dockerfile. The first step just checkout the repository you have created with your python application and Dockerfile, this uses [the checkout action](https://github.com/actions/checkout).\n",
    "```\n",
    "jobs:\n",
    "  podman-build:\n",
    "    runs-on: ubuntu-latest\n",
    "    steps:\n",
    "      - name: Checkout repo\n",
    "        uses: actions/checkout@v3\n",
    "\n",
    "The second step builds the Dockerfile using the [buildah-build action](https://github.com/redhat-actions/buildah-build) from Red Hat. \n",
    "```\n",
    "      - name: Build container image\n",
    "        uses: redhat-actions/buildah-build@v2\n",
    "        with:\n",
    "          context: \".\"\n",
    "          containerfiles: Dockerfile\n",
    "          image: ${{ env.IMAGE_NAME }}\n",
    "          layers: false\n",
    "          oci: true\n",
    "```\n",
    "\n",
    "Finally on the last step we need to push that image built on the second step, to do that we will use the [push-to-registry action](https://github.com/redhat-actions/push-to-registry). This action uses the environment variables we setup before to get the credentials automatically and push to the ghcr.io registry. Here we are also defining the tag that we are going to push to, in this case `latest`.\n",
    "```\n",
    "      - name: Push to ghcr.io\n",
    "        uses: redhat-actions/push-to-registry@v2.6\n",
    "        with:\n",
    "          image: ${{ env.IMAGE_NAME }}\n",
    "          tags: \"latest\"\n",
    "          registry: ${{ env.IMAGE_REGISTRY }}\n",
    "          username: ${{ env.REGISTRY_USER }}\n",
    "          password: ${{ env.REGISTRY_PASSWORD }}\n",
    "```\n",
    "\n"
   ]
  },
  {
   "cell_type": "markdown",
   "id": "aebef81c",
   "metadata": {},
   "source": [
    "#### Update the app.py with the python application we built.\n",
    "You have tested the application on the workbench, now we need to update `~/smartvillage-service/app.py` with the code with the proper functions and get it ready with the other files.\n",
    "\n",
    "At this point you should have all 4 files:\n",
    "\n",
    "- ~/smartvillage-service/Dockerfile\n",
    "- ~/smartvillage-service/app.py\n",
    "- ~/smartvillage-service/.github/workflows/build.yml\n",
    "- ~/smartvillage-service/.gitignore"
   ]
  },
  {
   "cell_type": "markdown",
   "id": "2136243d",
   "metadata": {},
   "source": [
    "#### Creating your github repository\n",
    "We want to create a github repository following this [link.](https://docs.github.com/en/repositories/creating-and-managing-repositories/quickstart-for-repositories#create-a-repository) We just want to do the first step which is to create the repository, do not commit any code yet.\n",
    "\n",
    "Once you have your repository, we want to create a personal access token to be able push our code to github.\n",
    "\n",
    "Click [here to generate a GitHub personal access token](https://github.com/settings/tokens?type=beta). Make sure you are creating a fine-grained access token which can grant \"read and write\" access for \"Content\" and \"Workflows\" to the your smartvillage-service repo.\n",
    "\n",
    "Give your token a note that you can remember.\n",
    "\n",
    "You will want to remember the random generated token value for later. You can copy it to the clipboard with the button on the right.\n",
    "\n",
    "To finish your git setup we want to setup your email, name and token/credentials by replacing the information below with your information and issuing the commands:\n",
    "\n",
    "```\n",
    "git config --global user.email \"MyEmail@example.com\"\n",
    "git config --global user.name \"FirstName LastName\"\n",
    "git config --global credential.helper store\n",
    "```\n",
    "\n",
    "#### Allow github workflows to push the container image\n",
    "To allow the automatic github action to push the built image to the container registry, we need to navigate to the setting page of your new repository.\n",
    "```\n",
    "https://github.com/<YOUR-USER-NAME>/smartvillage-service/settings/actions\n",
    "```\n",
    "<img src=\"pictures/microservice/0006.png\" />\n",
    "\n",
    "In the actions page under `Workflow permissions` near the end, select `Read and write permissions` and click `save`."
   ]
  },
  {
   "cell_type": "markdown",
   "id": "aca2ebe8",
   "metadata": {},
   "source": [
    "#### Committing your code to github\n",
    " \n",
    "First let's initialize our repository. For this we want to create a README.md file. md is the extension of Markdown, which is a common way to write documentation.\n",
    "\n",
    "```\n",
    "cd ~/smartvillage-service/\n",
    "git init\n",
    "echo \"My smartvillage service\" >> README.md\n",
    "git add README.md\n",
    "git commit -m \"first commit\"\n",
    "git branch -M main\n",
    "```\n",
    "\n",
    "Now for the next steps you will need to make sure to use your git repository address. \n",
    "\n",
    "```\n",
    "git remote add origin https://github.com/<YOUR-USER-NAME>/smartvillage-service.git\n",
    "git push -u origin main\n",
    "```\n",
    "\n",
    "Now you can confirm that the README.md exists on your repository by navigating to github.com/<YOUR-USER-NAME>/smartvillage-service.\n",
    "\n",
    "Once you have confirmed the Readme is in place, we can commit our code and push it to github.\n",
    "\n",
    "```\n",
    "cd ~/smartvillage-service/\n",
    "git add Dockerfile\n",
    "git add app.py\n",
    "git add .github\n",
    "git add .gitignore\n",
    "```\n",
    "\n",
    "You can confirm all the correct files are added to staging by issuing:\n",
    "\n",
    "```\n",
    "git status\n",
    "```\n",
    "\n",
    "if it looks good we want to commit:\n",
    "\n",
    "```\n",
    "git commit -m \"Add service, Dockerfile and github workflow.\"\n",
    "```\n",
    "\n",
    "Finally we push again to our main branch:\n",
    "\n",
    "```\n",
    "git push -u origin main\n",
    "```\n",
    "\n",
    "Finally you should see your code updated on your repository by navigating to github.com/<YOUR-USER-NAME>/smartvillage-service and your workflow building the container should be running at: github.com/<YOUR-USER-NAME>/smartvillage-service/actions\n",
    "\n",
    "If everything goes well, we should have your container built under:\n",
    "```\n",
    "https://github.com/<YOUR-USER-NAME>/smartvillage-service/pkgs/container/python-microservice\n",
    "```\n",
    "\n",
    "which should show you the address to use the container, for example\n",
    "```\n",
    "ghcr.io/<YOUR-USER-NAME>/python-microservice:latest\n",
    "```\n",
    "\n",
    "We will use this address on the next step."
   ]
  },
  {
   "cell_type": "markdown",
   "id": "54a877b3",
   "metadata": {},
   "source": [
    "#### Deploying on Openshift\n",
    "\n",
    "Openshift allow you to quickly deploy an application by using a container image. The code we pushed to our github repository and built with the action can now easily be used in Openshift thanks to the container image we now have. Whe system will start the container, and make a Kubernetes deployment, setup all the routes and services needed to talk to the service.\n",
    "\n",
    "1. From your [developer sandbox](https://console.redhat.com/openshift/sandbox) open the openshift view.\n",
    "\n",
    "<img src=\"pictures/microservice/0007.png\" />\n",
    "\n",
    "2. In the Developer view, select the <img src=\"pictures/microservice/0008.png\" /> button, and click on the <img src=\"pictures/microservice/0009.png\" /> tile.\n",
    "\n",
    "3. On the Deploy image page, paste a link to your `ghcr.io` container from the last step under `Image name from external registry`.\n",
    "\n",
    "<img src=\"pictures/microservice/0010.png\" />\n",
    "\n",
    "4. Under General-> Application: Select <img src=\"pictures/microservice/0011.png\" />.\n",
    "\n",
    "5. Under Name give it a name like: `python-microservice`.\n",
    "\n",
    "6. Resource type: `Deployment`\n",
    "\n",
    "<img src=\"pictures/microservice/0012.png\" />\n",
    "\n",
    "7. Leave everything else as is, but click on the `Health checks`.\n",
    "\n",
    "<img src=\"pictures/microservice/0013.png\" />\n",
    "\n",
    "8. Click on the <img src=\"pictures/microservice/0014.png\" /> button.\n",
    "\n",
    "9. For `type` select: HTTP GET.\n",
    "\n",
    "10. set Path to: `/health`.  - This is what we defined as the application path that triggers the data update on our application.\n",
    "\n",
    "11. Change period to `3`. - This will hit the /health api from our application every 3 seconds and update our maps.\n",
    "\n",
    "12. Press the <img src=\"pictures/microservice/0015.png\" /> button.\n",
    "\n",
    "\n",
    "#### Passing Environment Variable to your deployment.\n",
    "Now we have our application deployment ready. The last step is to update it to pass the 3 environment variables from the beginning of this notebook to the container.\n",
    "\n",
    "1. Select the <img src=\"pictures/microservice/0016.png\" /> view from the top left corner, you might need to change it from Developer to Administrator.\n",
    "\n",
    "2. Select `Workloads` then `Deployments`.\n",
    "\n",
    "<img src=\"pictures/microservice/0017.png\" />\n",
    "\n",
    "3. Click on the 3 dots <img src=\"pictures/microservice/0018.png\" /> on the right side of your deployment.\n",
    "\n",
    "4. Select <img src=\"pictures/microservice/0019.png\" from the dropdown.\n",
    "\n",
    "5. Close to the bottom of the page you should see `Environment Variables` select <img src=\"pictures/microservice/0020.png\" />.\n",
    "\n",
    "6. On name put `CLIENT_ID`, from the `select resource` dropdown select `python-microservice` which is the secret we created at the beginning, and from the `select key` dropdown select `CLIENT_ID`.\n",
    "\n",
    "<img src=\"pictures/microservice/0021.png\" />\n",
    "\n",
    "7. Repeat for `CLIENT_SECRET` and `MAP_SERVER_URL` environment variables and press the <img src=\"pictures/microservice/0022.png\" /> button.\n",
    "\n",
    "This will trigger a deployment update and your application should be ready. If you monitor your smart village deployment you should see the data being updated every 3 seconds or so."
   ]
  },
  {
   "cell_type": "markdown",
   "id": "26ccc82d",
   "metadata": {},
   "source": [
    "#### Access your smart village updated map.\n",
    "\n",
    "Now we want to access the map on your deployment instance of the Smart Village.\n",
    "After running the above code you will get an URL that you can copy and paste on your browser to see your map."
   ]
  },
  {
   "cell_type": "code",
   "execution_count": null,
   "id": "51d2960c",
   "metadata": {},
   "outputs": [],
   "source": [
    "%%bash\n",
    "echo \"https://$(oc get route/smartvillage-web -o jsonpath={.spec.host})/smart-traffic-light/\"\n",
    "echo DONE"
   ]
  },
  {
   "cell_type": "markdown",
   "id": "0d6f86e4",
   "metadata": {},
   "source": [
    "<img src=\"pictures/microservice/0028.png\" />\n",
    "\n",
    "Now on the page you should see a smart traffic lights list at the bottom with one entry, click on it and you should see a map that will be updated every few seconds with new data.\n",
    "\n",
    "<img src=\"pictures/microservice/0029.png\" />"
   ]
  }
 ],
 "metadata": {
  "kernelspec": {
   "display_name": "Python 3.9",
   "language": "python",
   "name": "python3"
  },
  "language_info": {
   "codemirror_mode": {
    "name": "ipython",
    "version": 3
   },
   "file_extension": ".py",
   "mimetype": "text/x-python",
   "name": "python",
   "nbconvert_exporter": "python",
   "pygments_lexer": "ipython3",
   "version": "3.11.7"
  }
 },
 "nbformat": 4,
 "nbformat_minor": 5
}
